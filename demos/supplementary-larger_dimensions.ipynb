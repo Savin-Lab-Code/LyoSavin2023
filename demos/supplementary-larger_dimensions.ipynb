{
 "cells": [
  {
   "cell_type": "markdown",
   "metadata": {},
   "source": [
    "# larger datasets"
   ]
  },
  {
   "cell_type": "code",
   "execution_count": 12,
   "metadata": {},
   "outputs": [],
   "source": [
    "import numpy as np\n",
    "import os, sys\n",
    "import json\n",
    "\n",
    "project_root = os.path.abspath(\"\")  # alternative\n",
    "if project_root[-12:] == 'LyoSavin2023':\n",
    "    base_dir = project_root\n",
    "else:\n",
    "    base_dir = os.path.dirname(project_root)\n",
    "sys.path.append(os.path.join(base_dir, 'core'))\n",
    "sys.path.append(os.path.join(base_dir, 'core/utils'))\n",
    "\n",
    "import torch\n",
    "import torch.optim as optim\n",
    "import time\n",
    "from tqdm.auto import tqdm\n",
    "import matplotlib.pyplot as plt\n",
    "from torch.utils.tensorboard import SummaryWriter\n",
    "import zarr\n",
    "\n",
    "from utils import remove_all_ticks_and_labels"
   ]
  },
  {
   "cell_type": "markdown",
   "metadata": {},
   "source": [
    "# import MNIST dataset"
   ]
  },
  {
   "cell_type": "code",
   "execution_count": 112,
   "metadata": {},
   "outputs": [],
   "source": [
    "# params\n",
    "description = {\n",
    "    # 'model_name': 'dendritic-mnist',\n",
    "    'model_name': 'fc-mnist',\n",
    "    'model_number': 5,\n",
    "    'num_layers': 5,\n",
    "    'num_steps': 100,\n",
    "    'forward_schedule': 'sine',\n",
    "    'batch_size': 512,\n",
    "    # 'hidden_cfg': [8, 8, 7, 7],\n",
    "    'hidden_cfg': 1600,\n",
    "    'num_ambient_dims': 28 * 28,\n",
    "    'num_epochs': 1e2,\n",
    "    'manifold_type': 'mnist',\n",
    "    'lr': 3e-3,\n",
    "    'optimizer': 'Adam',\n",
    "    'classes': 'all',\n",
    "}"
   ]
  },
  {
   "cell_type": "code",
   "execution_count": 113,
   "metadata": {},
   "outputs": [],
   "source": [
    "import torch\n",
    "from torchvision import datasets, transforms\n",
    "mnist_dir = os.path.join(base_dir, 'core', 'datasets', 'mnist')\n",
    "\n",
    "mnist_train = datasets.MNIST(mnist_dir, train=True, download=True,\n",
    "                transform=transforms.Compose([\n",
    "                    transforms.ToTensor(),\n",
    "                    transforms.Normalize((0.1307,), (0.3081,))\n",
    "                ]))\n",
    "\n",
    "# ------------------------------- select digits ------------------------------ #\n",
    "# indices = (mnist_train.targets == 0) | (mnist_train.targets == 1) | (mnist_train.targets == 2)\n",
    "# mnist_train.data, mnist_train.targets = mnist_train.data[indices], mnist_train.targets[indices]\n",
    "\n",
    "train_loader = torch.utils.data.DataLoader(\n",
    "    mnist_train,\n",
    "    batch_size=description['batch_size'], shuffle=True)\n",
    "\n",
    "# test_loader = torch.utils.data.DataLoader(\n",
    "#     datasets.MNIST(mnist_dir, train=False, transform=transforms.Compose([\n",
    "#                        transforms.ToTensor(),\n",
    "#                        transforms.Normalize((0.1307,), (0.3081,))\n",
    "#                    ])),\n",
    "#     batch_size=args['test_batch_size'], shuffle=True, **kwargs)"
   ]
  },
  {
   "cell_type": "code",
   "execution_count": 103,
   "metadata": {},
   "outputs": [],
   "source": [
    "def train(num_epochs, model, train_loader, num_steps, optimizer, tb, device):\n",
    "    from torch.autograd import Variable\n",
    "    from prior_utils import calculate_loss\n",
    "    \n",
    "    for epoch in tqdm(range(1, int(num_epochs) + 1)):\n",
    "        # start training    \n",
    "        for batch_idx, (data, target) in enumerate(train_loader):\n",
    "            \n",
    "            # data, target = data.to(device), target.to(device)\n",
    "            data = data.to(device)\n",
    "            # data, target = Variable(data), Variable(target)\n",
    "            \n",
    "            # zero the gradients\n",
    "            optimizer.zero_grad()\n",
    "            \n",
    "            # compute the loss\n",
    "            # loss = calculate_loss(model, data, num_steps, alphas_bar_sqrt, one_minus_alphas_prod_sqrt, device, norm='l2', has_class_label=False)\n",
    "            loss = calculate_loss(model, data, n_steps=description['num_steps'], forward_schedule=description['forward_schedule'], norm='l2', device=device)\n",
    "            \n",
    "            # backward pass: compute the gradient of the loss wrt the parameters\n",
    "            loss.backward()\n",
    "            # call the step function to update the parameters\n",
    "            optimizer.step()\n",
    "            \n",
    "            # write to tensorboard\n",
    "            tb.add_scalar('Loss', loss.item(), epoch+batch_idx)\n",
    "        \n",
    "    return model"
   ]
  },
  {
   "cell_type": "code",
   "execution_count": 104,
   "metadata": {},
   "outputs": [
    {
     "name": "stdout",
     "output_type": "stream",
     "text": [
      "Using device: cuda\n"
     ]
    },
    {
     "data": {
      "application/vnd.jupyter.widget-view+json": {
       "model_id": "f92e831728634a78a9aa48c85138523f",
       "version_major": 2,
       "version_minor": 0
      },
      "text/plain": [
       "  0%|          | 0/200 [00:00<?, ?it/s]"
      ]
     },
     "metadata": {},
     "output_type": "display_data"
    },
    {
     "name": "stdout",
     "output_type": "stream",
     "text": [
      "model state dict saved in directory: /mnt/ceph/users/blyo1/projects/LyoSavin2023/core/saved_weights/fc-mnist_4.pt\n"
     ]
    }
   ],
   "source": [
    "global device\n",
    "device = torch.device('cuda' if torch.cuda.is_available() else 'cpu')\n",
    "print(f'Using device: {device}', flush=True)\n",
    "\n",
    "from models import VariableDendriticCircuit, FullyConnectedNetwork\n",
    "# model = VariableDendriticCircuit(hidden_cfg=description['hidden_cfg'], \n",
    "#                                 num_in=description['num_ambient_dims'], \n",
    "#                                 num_out=description['num_ambient_dims'], \n",
    "#                                 bias=True)\n",
    "\n",
    "model = FullyConnectedNetwork(n_dim_data=description['num_ambient_dims'], num_hidden=description['hidden_cfg'])\n",
    "model = model.to(device)\n",
    "\n",
    "optimizer = optim.Adam(model.parameters(), lr=description['lr'])\n",
    "# optimizer = optim.SGD(model.parameters(), lr=args['lr'], momentum=args['momentum'])\n",
    "\n",
    "run_dir = os.path.join(base_dir, 'demos/runs', f'{description[\"model_name\"]}_{description[\"model_number\"]}')\n",
    "tb = SummaryWriter(run_dir, flush_secs=1)\n",
    "start_time = time.time()\n",
    "\n",
    "model.train()\n",
    "model = train(description['num_epochs'], model, train_loader, description['num_steps'], optimizer, tb, device)\n",
    "\n",
    "from utils import save_model_weights\n",
    "save_model_weights(model, description['model_name'], description['model_number'])\n",
    "tb.flush()"
   ]
  },
  {
   "cell_type": "code",
   "execution_count": 106,
   "metadata": {},
   "outputs": [
    {
     "name": "stdout",
     "output_type": "stream",
     "text": [
      "model loaded!\n"
     ]
    },
    {
     "data": {
      "text/plain": [
       "FullyConnectedNetwork(\n",
       "  (condlin1): NoiseConditionalLinearConcat(\n",
       "    (linear): Linear(in_features=785, out_features=1024, bias=True)\n",
       "  )\n",
       "  (condlin2): NoiseConditionalLinearConcat(\n",
       "    (linear): Linear(in_features=1025, out_features=1024, bias=True)\n",
       "  )\n",
       "  (condlin3): NoiseConditionalLinearConcat(\n",
       "    (linear): Linear(in_features=1025, out_features=1024, bias=True)\n",
       "  )\n",
       "  (condlin4): NoiseConditionalLinearConcat(\n",
       "    (linear): Linear(in_features=1025, out_features=1024, bias=True)\n",
       "  )\n",
       "  (condlin5): NoiseConditionalLinearConcat(\n",
       "    (linear): Linear(in_features=1025, out_features=1024, bias=True)\n",
       "  )\n",
       "  (linear): Linear(in_features=1024, out_features=784, bias=True)\n",
       "  (nonlin): ReLU()\n",
       "  (sigmoid): Sigmoid()\n",
       ")"
      ]
     },
     "execution_count": 106,
     "metadata": {},
     "output_type": "execute_result"
    }
   ],
   "source": [
    "# load model weights\n",
    "model = FullyConnectedNetwork(n_dim_data=description['num_ambient_dims'], num_hidden=description['hidden_cfg'])\n",
    "from utils import load_model_weights\n",
    "model = load_model_weights(model, description['model_name'], 4, device)\n",
    "model = model.to(device)\n",
    "model.eval()"
   ]
  },
  {
   "cell_type": "code",
   "execution_count": 111,
   "metadata": {},
   "outputs": [
    {
     "data": {
      "text/plain": [
       "array([<AxesSubplot: >, <AxesSubplot: >, <AxesSubplot: >, <AxesSubplot: >],\n",
       "      dtype=object)"
      ]
     },
     "execution_count": 111,
     "metadata": {},
     "output_type": "execute_result"
    },
    {
     "data": {
      "image/png": "[encoded data removed]",
      "text/plain": [
       "<Figure size 640x480 with 4 Axes>"
      ]
     },
     "metadata": {},
     "output_type": "display_data"
    }
   ],
   "source": [
    "# generate samples from the model\n",
    "from prior_utils import p_sample_loop\n",
    "\n",
    "shape = (1, description['num_ambient_dims'])\n",
    "x_seq = p_sample_loop(model, shape, description['num_steps'], device=device, init_x=None, normalized_beta_schedule=False, schedule='sine')\n",
    "x_T = x_seq[0].reshape(28, 28).detach().cpu().numpy()\n",
    "x_t = x_seq[49].reshape(28, 28).detach().cpu().numpy()\n",
    "x_hat = x_seq[-1].reshape(28, 28).detach().cpu().numpy()\n",
    "\n",
    "fig, ax = plt.subplots(1,4)\n",
    "ax[0].imshow(mnist_train.data[0], cmap='gray')\n",
    "ax[1].imshow(x_T, cmap='gray')\n",
    "ax[2].imshow(x_t, cmap='gray')\n",
    "ax[3].imshow(x_hat, cmap='gray')\n",
    "from utils import remove_all_ticks_and_labels\n",
    "remove_all_ticks_and_labels(ax)"
   ]
  },
  {
   "cell_type": "code",
   "execution_count": null,
   "metadata": {},
   "outputs": [],
   "source": []
  }
 ],
 "metadata": {
  "kernelspec": {
   "display_name": "mykernel",
   "language": "python",
   "name": "mykernel"
  },
  "language_info": {
   "codemirror_mode": {
    "name": "ipython",
    "version": 3
   },
   "file_extension": ".py",
   "mimetype": "text/x-python",
   "name": "python",
   "nbconvert_exporter": "python",
   "pygments_lexer": "ipython3",
   "version": "3.10.8"
  }
 },
 "nbformat": 4,
 "nbformat_minor": 2
}
