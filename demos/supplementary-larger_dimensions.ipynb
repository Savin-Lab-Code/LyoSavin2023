{
 "cells": [
  {
   "cell_type": "markdown",
   "metadata": {},
   "source": [
    "# larger datasets"
   ]
  },
  {
   "cell_type": "code",
   "execution_count": 12,
   "metadata": {},
   "outputs": [],
   "source": [
    "import numpy as np\n",
    "import os, sys\n",
    "import json\n",
    "\n",
    "project_root = os.path.abspath(\"\")  # alternative\n",
    "if project_root[-12:] == 'LyoSavin2023':\n",
    "    base_dir = project_root\n",
    "else:\n",
    "    base_dir = os.path.dirname(project_root)\n",
    "sys.path.append(os.path.join(base_dir, 'core'))\n",
    "sys.path.append(os.path.join(base_dir, 'core/utils'))\n",
    "\n",
    "import torch\n",
    "import torch.optim as optim\n",
    "import time\n",
    "from tqdm.auto import tqdm\n",
    "import matplotlib.pyplot as plt\n",
    "from torch.utils.tensorboard import SummaryWriter\n",
    "import zarr\n",
    "\n",
    "from utils import remove_all_ticks_and_labels"
   ]
  },
  {
   "cell_type": "markdown",
   "metadata": {},
   "source": [
    "# import MNIST dataset"
   ]
  },
  {
   "cell_type": "code",
   "execution_count": 49,
   "metadata": {},
   "outputs": [],
   "source": [
    "# params\n",
    "description = {\n",
    "    # 'model_name': 'dendritic-mnist',\n",
    "    'model_name': 'fc-mnist',\n",
    "    'model_number': 1,\n",
    "    'num_steps': 100,\n",
    "    'forward_schedule': 'sine',\n",
    "    'batch_size': 256,\n",
    "    # 'hidden_cfg': [8, 8, 7, 7],\n",
    "    'hidden_cfg': 512,\n",
    "    'num_ambient_dims': 28 * 28,\n",
    "    'num_epochs': 2e1,\n",
    "    'manifold_type': 'mnist',\n",
    "    'lr': 3e-4,\n",
    "    'optimizer': 'Adam',\n",
    "    'classes': [0, 1, 2],\n",
    "}"
   ]
  },
  {
   "cell_type": "code",
   "execution_count": 50,
   "metadata": {},
   "outputs": [],
   "source": [
    "import torch\n",
    "from torchvision import datasets, transforms\n",
    "mnist_dir = os.path.join(base_dir, 'core', 'datasets', 'mnist')\n",
    "\n",
    "mnist_train = datasets.MNIST(mnist_dir, train=True, download=True,\n",
    "                transform=transforms.Compose([\n",
    "                    transforms.ToTensor(),\n",
    "                    transforms.Normalize((0.1307,), (0.3081,))\n",
    "                ]))\n",
    "\n",
    "# ------------------------------- select digits ------------------------------ #\n",
    "# indices = (mnist_train.targets == 0) | (mnist_train.targets == 1) | (mnist_train.targets == 2)\n",
    "# mnist_train.data, mnist_train.targets = mnist_train.data[indices], mnist_train.targets[indices]\n",
    "\n",
    "train_loader = torch.utils.data.DataLoader(\n",
    "    mnist_train,\n",
    "    batch_size=description['batch_size'], shuffle=True)\n",
    "\n",
    "# test_loader = torch.utils.data.DataLoader(\n",
    "#     datasets.MNIST(mnist_dir, train=False, transform=transforms.Compose([\n",
    "#                        transforms.ToTensor(),\n",
    "#                        transforms.Normalize((0.1307,), (0.3081,))\n",
    "#                    ])),\n",
    "#     batch_size=args['test_batch_size'], shuffle=True, **kwargs)"
   ]
  },
  {
   "cell_type": "code",
   "execution_count": 51,
   "metadata": {},
   "outputs": [],
   "source": [
    "def train(epoch, model, train_loader, num_steps, optimizer, tb, device):\n",
    "    from torch.autograd import Variable\n",
    "    from prior_utils import calculate_loss\n",
    "    \n",
    "    # start training\n",
    "    model = model.to(device)\n",
    "    model.train()\n",
    "    \n",
    "    for batch_idx, (data, target) in enumerate(train_loader):\n",
    "         \n",
    "        data, target = data.to(device), target.to(device)\n",
    "        # data, target = Variable(data), Variable(target)\n",
    "        \n",
    "        # zero the gradients\n",
    "        optimizer.zero_grad()\n",
    "        # compute the loss\n",
    "        # loss = calculate_loss(model, data, num_steps, alphas_bar_sqrt, one_minus_alphas_prod_sqrt, device, norm='l2', has_class_label=False)\n",
    "        \n",
    "        loss = calculate_loss(model, data, n_steps=100, forward_schedule='sine', norm='l2', device=device)\n",
    "        \n",
    "        # backward pass: compute the gradient of the loss wrt the parameters\n",
    "        loss.backward()\n",
    "        # call the step function to update the parameters\n",
    "        optimizer.step()\n",
    "        \n",
    "        # write to tensorboard\n",
    "        tb.add_scalar('Loss', loss.item(), epoch+batch_idx)"
   ]
  },
  {
   "cell_type": "code",
   "execution_count": 52,
   "metadata": {},
   "outputs": [
    {
     "name": "stdout",
     "output_type": "stream",
     "text": [
      "Using device: cuda\n"
     ]
    },
    {
     "data": {
      "application/vnd.jupyter.widget-view+json": {
       "model_id": "f85eb5793bd8419aa4a54f0ad49f01a9",
       "version_major": 2,
       "version_minor": 0
      },
      "text/plain": [
       "  0%|          | 0/20 [00:00<?, ?it/s]"
      ]
     },
     "metadata": {},
     "output_type": "display_data"
    }
   ],
   "source": [
    "global device\n",
    "device = torch.device('cuda' if torch.cuda.is_available() else 'cpu')\n",
    "print(f'Using device: {device}', flush=True)\n",
    "\n",
    "from models import VariableDendriticCircuit, FullyConnectedNetwork\n",
    "# model = VariableDendriticCircuit(hidden_cfg=description['hidden_cfg'], \n",
    "#                                 num_in=description['num_ambient_dims'], \n",
    "#                                 num_out=description['num_ambient_dims'], \n",
    "#                                 bias=True)\n",
    "\n",
    "model = FullyConnectedNetwork(n_dim_data=description['num_ambient_dims'] ,num_hidden=description['hidden_cfg'])\n",
    "\n",
    "optimizer = optim.Adam(model.parameters(), lr=description['lr'])\n",
    "# optimizer = optim.SGD(model.parameters(), lr=args['lr'], momentum=args['momentum'])\n",
    "\n",
    "run_dir = os.path.join(base_dir, 'demos/runs', f'{description[\"model_name\"]}_{description[\"model_number\"]}')\n",
    "tb = SummaryWriter(run_dir)\n",
    "start_time = time.time()\n",
    "\n",
    "for epoch in tqdm(range(1, int(description['num_epochs']) + 1)):\n",
    "    train(epoch, model, train_loader, description['num_steps'], optimizer, tb, device)\n",
    "    \n",
    "tb.flush()"
   ]
  },
  {
   "cell_type": "code",
   "execution_count": null,
   "metadata": {},
   "outputs": [],
   "source": []
  }
 ],
 "metadata": {
  "kernelspec": {
   "display_name": "mykernel",
   "language": "python",
   "name": "mykernel"
  },
  "language_info": {
   "codemirror_mode": {
    "name": "ipython",
    "version": 3
   },
   "file_extension": ".py",
   "mimetype": "text/x-python",
   "name": "python",
   "nbconvert_exporter": "python",
   "pygments_lexer": "ipython3",
   "version": "3.10.8"
  }
 },
 "nbformat": 4,
 "nbformat_minor": 2
}
