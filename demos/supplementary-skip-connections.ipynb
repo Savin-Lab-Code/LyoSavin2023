{
 "cells": [
  {
   "cell_type": "code",
   "execution_count": 1,
   "metadata": {},
   "outputs": [
    {
     "name": "stdout",
     "output_type": "stream",
     "text": [
      "Using device: cuda\n"
     ]
    }
   ],
   "source": [
    "import numpy as np\n",
    "import os, sys\n",
    "\n",
    "# project_root = os.getcwd()\n",
    "project_root = os.path.abspath(\"\")\n",
    "if project_root[-12:] == 'LyoSavin2023':\n",
    "    base_dir = project_root\n",
    "else:\n",
    "    base_dir = os.path.dirname(project_root)\n",
    "sys.path.append(os.path.join(base_dir, 'core'))\n",
    "sys.path.append(os.path.join(base_dir, 'core/utils'))\n",
    "\n",
    "import torch\n",
    "from tqdm.auto import tqdm, trange\n",
    "import matplotlib.pyplot as plt\n",
    "\n",
    "from utils import remove_all_ticks_and_labels\n",
    "import matplotlib\n",
    "matplotlib.rcParams['pdf.fonttype'] = 42  # makes fonts editable in Adobe Illustrator\n",
    "matplotlib.rcParams['ps.fonttype'] = 42\n",
    "\n",
    "# device = 'cpu'\n",
    "global device\n",
    "device = torch.device('cuda' if torch.cuda.is_available() else 'cpu')\n",
    "print(f'Using device: {device}', flush=True)"
   ]
  },
  {
   "cell_type": "markdown",
   "metadata": {},
   "source": [
    "what are the effects of an architecture with skip connections?"
   ]
  },
  {
   "cell_type": "code",
   "execution_count": 70,
   "metadata": {},
   "outputs": [
    {
     "name": "stderr",
     "output_type": "stream",
     "text": [
      "[autoreload of models failed: Traceback (most recent call last):\n",
      "  File \"/mnt/sw/nix/store/gpkc8q6zjnp3n3h3w9hbmbj6gjbxs85w-python-3.10.10-view/lib/python3.10/site-packages/IPython/extensions/autoreload.py\", line 273, in check\n",
      "    superreload(m, reload, self.old_objects)\n",
      "  File \"/mnt/sw/nix/store/gpkc8q6zjnp3n3h3w9hbmbj6gjbxs85w-python-3.10.10-view/lib/python3.10/site-packages/IPython/extensions/autoreload.py\", line 496, in superreload\n",
      "    update_generic(old_obj, new_obj)\n",
      "  File \"/mnt/sw/nix/store/gpkc8q6zjnp3n3h3w9hbmbj6gjbxs85w-python-3.10.10-view/lib/python3.10/site-packages/IPython/extensions/autoreload.py\", line 393, in update_generic\n",
      "    update(a, b)\n",
      "  File \"/mnt/sw/nix/store/gpkc8q6zjnp3n3h3w9hbmbj6gjbxs85w-python-3.10.10-view/lib/python3.10/site-packages/IPython/extensions/autoreload.py\", line 361, in update_class\n",
      "    update_instances(old, new)\n",
      "  File \"/mnt/sw/nix/store/gpkc8q6zjnp3n3h3w9hbmbj6gjbxs85w-python-3.10.10-view/lib/python3.10/site-packages/IPython/extensions/autoreload.py\", line 315, in update_instances\n",
      "    refs = gc.get_referrers(old)\n",
      "KeyboardInterrupt\n",
      "]\n"
     ]
    }
   ],
   "source": [
    "from utils import save_model_weights\n",
    "from dataset_utils import load_trimodal_data, load_unimodal_data, load_unimodal_data_3d, load_unimodal_data_nd, generate_2d_swiss_roll\n",
    "from models import VariableDendriticCircuit, VariableDendriticCircuitWithSkipConnections\n",
    "\n",
    "# ---------------------------------- params ---------------------------------- #\n",
    "dataset_size = 2e3\n",
    "num_ambient_dims = 2\n",
    "num_hiddens = [\n",
    "        [2, 2, 2, 2, 2, 2, 2, 2, 3, 3],\n",
    "        [3, 3, 3, 3, 3, 3, 4],\n",
    "        [4, 4, 4, 4, 4, 3],\n",
    "        [5, 5, 5, 5, 5],\n",
    "        [8, 8, 7, 7],\n",
    "        [59, 59]\n",
    "    ]\n",
    "num_hidden = num_hiddens[-1]\n",
    "bias=True\n",
    "\n",
    "# ------------------------------ define dataset ------------------------------ #\n",
    "dataset = generate_2d_swiss_roll(dataset_size, rescaled=True, return_as_tensor=True)[1]\n",
    "# dataset = load_unimodal_data_nd(dataset_size, 'swiss_roll_3d', 10, rotation_angle=np.pi/4, noise=0, shrink_y_axis=True)\n",
    "\n",
    "# -------------------------------- load model -------------------------------- #\n",
    "model_sc = VariableDendriticCircuitWithSkipConnections(\n",
    "    hidden_cfg=num_hidden, \n",
    "    num_in=num_ambient_dims, \n",
    "    num_out=num_ambient_dims, \n",
    "    bias=bias\n",
    ")\n",
    "\n",
    "# model = VariableDendriticCircuit(\n",
    "#     hidden_cfg=num_hidden, \n",
    "#     num_in=num_ambient_dims, \n",
    "#     num_out=num_ambient_dims, \n",
    "#     bias=bias\n",
    "# )\n",
    "\n",
    "# print(num_hidden)"
   ]
  },
  {
   "cell_type": "code",
   "execution_count": 61,
   "metadata": {},
   "outputs": [
    {
     "name": "stdout",
     "output_type": "stream",
     "text": [
      "VariableDendriticCircuitWithSkipConnections(\n",
      "  (nonlin): ReLU()\n",
      "  (fc_layer): MySequential(\n",
      "    (0): NoiseConditionalLinearConcat1(\n",
      "      (linear): Linear(in_features=3, out_features=6962, bias=True)\n",
      "    )\n",
      "  )\n",
      "  (features): MySequential(\n",
      "    (0): ReLU()\n",
      "    (1): DendriticBranchLayerWithSkipConnections()\n",
      "    (2): ReLU()\n",
      "    (3): DendriticBranchLayerWithSkipConnections()\n",
      "  )\n",
      ")\n"
     ]
    }
   ],
   "source": [
    "print(model_sc)"
   ]
  },
  {
   "cell_type": "code",
   "execution_count": 62,
   "metadata": {},
   "outputs": [
    {
     "data": {
      "text/plain": [
       "torch.Size([118, 62])"
      ]
     },
     "execution_count": 62,
     "metadata": {},
     "output_type": "execute_result"
    }
   ],
   "source": [
    "# model.features[2].layer_weights.shape\n",
    "model_sc.features[1].layer_weights.shape"
   ]
  },
  {
   "cell_type": "code",
   "execution_count": 63,
   "metadata": {},
   "outputs": [
    {
     "data": {
      "text/plain": [
       "MySequential(\n",
       "  (0): NoiseConditionalLinearConcat1(\n",
       "    (linear): Linear(in_features=3, out_features=6962, bias=True)\n",
       "  )\n",
       ")"
      ]
     },
     "execution_count": 63,
     "metadata": {},
     "output_type": "execute_result"
    }
   ],
   "source": [
    "model_sc.fc_layer"
   ]
  },
  {
   "cell_type": "code",
   "execution_count": 64,
   "metadata": {},
   "outputs": [],
   "source": [
    "model = model_sc"
   ]
  },
  {
   "cell_type": "markdown",
   "metadata": {},
   "source": [
    "# train"
   ]
  },
  {
   "cell_type": "code",
   "execution_count": 68,
   "metadata": {},
   "outputs": [
    {
     "data": {
      "application/vnd.jupyter.widget-view+json": {
       "model_id": "478472fea3f34b11b5766a7dabc430eb",
       "version_major": 2,
       "version_minor": 0
      },
      "text/plain": [
       "Training model:   0%|          | 0/21 [00:00<?, ?epochs/s]"
      ]
     },
     "metadata": {},
     "output_type": "display_data"
    }
   ],
   "source": [
    "# ------------------------------ training params ----------------------------- #\n",
    "num_steps = 100\n",
    "forward_schedule = 'sine'\n",
    "num_epochs = 20+1\n",
    "batch_size = 256\n",
    "lr = 3e-4\n",
    "l1_reg = 0\n",
    "l1_reg_on_phase_weights = True\n",
    "\n",
    "from torch.utils.tensorboard import SummaryWriter\n",
    "import torch.optim as optim\n",
    "from prior_utils import forward_process\n",
    "from utils import noise_estimation_loss\n",
    "\n",
    "coefs = forward_process(num_steps, device, forward_schedule)\n",
    "betas, alphas, alphas_prod, alphas_prod_p, alphas_bar_sqrt, one_minus_alphas_prod_log, one_minus_alphas_prod_sqrt = coefs\n",
    "alphas_bar_sqrt = alphas_bar_sqrt.to(device)\n",
    "one_minus_alphas_prod_sqrt = one_minus_alphas_prod_sqrt.to(device)\n",
    "\n",
    "# training set\n",
    "dataset = dataset.to(device)\n",
    "model.to(device)\n",
    "\n",
    "# training parameteres\n",
    "optimizer = optim.Adam(model.parameters(), lr=lr)\n",
    "model_name = 'VDC'\n",
    "model_number = 1\n",
    "run_dir = os.path.join(base_dir, 'demos/runs', f'{model_name}_{model_number}')\n",
    "tb = SummaryWriter(run_dir)\n",
    "losses = []\n",
    "# start_time = time.time()\n",
    "\n",
    "# start training\n",
    "model.train()\n",
    "for t in tqdm(range(int(num_epochs)), total=int(num_epochs), desc='Training model', unit='epochs', miniters=int(num_epochs)/1000, maxinterval=float(\"inf\")):\n",
    "    permutation = torch.randperm(dataset.size()[0], device=device)\n",
    "\n",
    "    for i in range(0, dataset.size()[0], batch_size):\n",
    "        # retrieve current batch\n",
    "        indices = permutation[i:i+batch_size]\n",
    "        batch_x = dataset[indices]\n",
    "        \n",
    "        # compute the loss\n",
    "        loss = noise_estimation_loss(model, batch_x, num_steps, alphas_bar_sqrt, one_minus_alphas_prod_sqrt, device, norm='l2', l1_reg=l1_reg, l1_reg_on_phase_weights=l1_reg_on_phase_weights, has_class_label=False)\n",
    "        # zero the gradients\n",
    "        optimizer.zero_grad()\n",
    "        # backward pass: compute the gradient of the loss wrt the parameters\n",
    "        loss.backward()\n",
    "        # call the step function to update the parameters\n",
    "        optimizer.step()\n",
    "\n",
    "    # write to tensorboard\n",
    "    tb.add_scalar('Loss', loss.item(), t)\n",
    "    losses.append(loss.item())\n",
    "tb.flush()"
   ]
  },
  {
   "cell_type": "code",
   "execution_count": 63,
   "metadata": {},
   "outputs": [
    {
     "data": {
      "text/plain": [
       "[<matplotlib.lines.Line2D at 0x1553eff6aa70>]"
      ]
     },
     "execution_count": 63,
     "metadata": {},
     "output_type": "execute_result"
    },
    {
     "data": {
      "image/png": "[encoded data removed]",
      "text/plain": [
       "<Figure size 640x480 with 1 Axes>"
      ]
     },
     "metadata": {},
     "output_type": "display_data"
    }
   ],
   "source": [
    "fig, ax = plt.subplots(1, 1)\n",
    "ax.plot(losses)"
   ]
  },
  {
   "cell_type": "markdown",
   "metadata": {},
   "source": [
    "# inference"
   ]
  },
  {
   "cell_type": "code",
   "execution_count": null,
   "metadata": {},
   "outputs": [],
   "source": []
  }
 ],
 "metadata": {
  "kernelspec": {
   "display_name": "gpuvenvkernel2",
   "language": "python",
   "name": "gpuvenvkernel2"
  },
  "language_info": {
   "codemirror_mode": {
    "name": "ipython",
    "version": 3
   },
   "file_extension": ".py",
   "mimetype": "text/x-python",
   "name": "python",
   "nbconvert_exporter": "python",
   "pygments_lexer": "ipython3",
   "version": "3.10.10"
  }
 },
 "nbformat": 4,
 "nbformat_minor": 2
}
