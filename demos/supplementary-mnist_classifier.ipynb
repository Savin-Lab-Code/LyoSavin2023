{
 "cells": [
  {
   "cell_type": "code",
   "execution_count": 1,
   "metadata": {},
   "outputs": [
    {
     "name": "stderr",
     "output_type": "stream",
     "text": [
      "2023-11-22 19:39:06.264483: I tensorflow/core/util/port.cc:110] oneDNN custom operations are on. You may see slightly different numerical results due to floating-point round-off errors from different computation orders. To turn them off, set the environment variable `TF_ENABLE_ONEDNN_OPTS=0`.\n",
      "2023-11-22 19:39:06.692842: I tensorflow/core/platform/cpu_feature_guard.cc:182] This TensorFlow binary is optimized to use available CPU instructions in performance-critical operations.\n",
      "To enable the following instructions: AVX512F AVX512_VNNI, in other operations, rebuild TensorFlow with the appropriate compiler flags.\n"
     ]
    },
    {
     "name": "stdout",
     "output_type": "stream",
     "text": [
      "Using device: cuda\n"
     ]
    }
   ],
   "source": [
    "import numpy as np\n",
    "import os, sys\n",
    "import json\n",
    "\n",
    "project_root = os.path.abspath(\"\")  # alternative\n",
    "if project_root[-12:] == 'LyoSavin2023':\n",
    "    base_dir = project_root\n",
    "else:\n",
    "    base_dir = os.path.dirname(project_root)\n",
    "sys.path.append(os.path.join(base_dir, 'core'))\n",
    "sys.path.append(os.path.join(base_dir, 'core/utils'))\n",
    "\n",
    "import torch\n",
    "import torch.optim as optim\n",
    "import time\n",
    "from tqdm.auto import tqdm\n",
    "import matplotlib.pyplot as plt\n",
    "import matplotlib\n",
    "matplotlib.rcParams['pdf.fonttype'] = 42  # makes fonts editable in Adobe Illustrator\n",
    "matplotlib.rcParams['ps.fonttype'] = 42\n",
    "from torch.utils.tensorboard import SummaryWriter\n",
    "\n",
    "from utils import remove_all_ticks_and_labels\n",
    "\n",
    "global device\n",
    "device = torch.device('cuda' if torch.cuda.is_available() else 'cpu')\n",
    "print(f'Using device: {device}', flush=True)"
   ]
  },
  {
   "cell_type": "code",
   "execution_count": 15,
   "metadata": {},
   "outputs": [],
   "source": [
    "description = {\n",
    "    'model_name': 'large-noisy-image-classifier',\n",
    "    'model_num': 9,\n",
    "    'architecture': 'NetWithNoiseInfo',\n",
    "    'num_hidden': 32,\n",
    "    'dataset': 'mnist',\n",
    "    'num_epochs': 1e2,\n",
    "    'lr': 3e-3,\n",
    "    'num_steps': 150,\n",
    "    'batch_size': 512,\n",
    "    'num_in': 28*28,\n",
    "    'schedule': 'sigmoid',\n",
    "    'start': 1e-7,\n",
    "    'end': 1e-1,\n",
    "    'notes': 'training on noisy images.'\n",
    "}\n",
    "# save description\n",
    "with open(os.path.join(base_dir, 'core', 'model_description', f'{description[\"model_name\"]}_{description[\"model_num\"]}.json'), 'w') as f:\n",
    "    json.dump(description, f)"
   ]
  },
  {
   "cell_type": "code",
   "execution_count": 16,
   "metadata": {},
   "outputs": [
    {
     "name": "stdout",
     "output_type": "stream",
     "text": [
      "5\n"
     ]
    }
   ],
   "source": [
    "from torchvision import datasets, transforms\n",
    "mnist_dir = os.path.join(base_dir, 'core', 'datasets', 'mnist')\n",
    "\n",
    "mnist_train = datasets.MNIST(mnist_dir, train=True, download=True,\n",
    "                transform=transforms.Compose([\n",
    "                    transforms.ToTensor(),\n",
    "                    # transforms.Normalize((0.1307,), (0.3081,))\n",
    "                ]))\n",
    "\n",
    "# mnist_train.targets\n",
    "print(mnist_train[0][1])\n",
    "\n",
    "# ------------------------------- select digits ------------------------------ #\n",
    "train_loader = torch.utils.data.DataLoader(\n",
    "    mnist_train,\n",
    "    batch_size=description['batch_size'], shuffle=True)"
   ]
  },
  {
   "cell_type": "code",
   "execution_count": 23,
   "metadata": {},
   "outputs": [
    {
     "name": "stdout",
     "output_type": "stream",
     "text": [
      "Using device: cuda\n"
     ]
    },
    {
     "data": {
      "application/vnd.jupyter.widget-view+json": {
       "model_id": "3bb94ad787344f459cae673455907b16",
       "version_major": 2,
       "version_minor": 0
      },
      "text/plain": [
       "Training model:   0%|          | 0/100 [00:00<?, ?epochs/s]"
      ]
     },
     "metadata": {},
     "output_type": "display_data"
    },
    {
     "name": "stdout",
     "output_type": "stream",
     "text": [
      "training is over at last\n",
      "model state dict saved in directory: /mnt/ceph/users/blyo1/projects/LyoSavin2023/core/saved_weights/large-noisy-image-classifier_9.pt\n"
     ]
    }
   ],
   "source": [
    "# training \n",
    "from image_utils import generate_many_noisy_samples, rescale_to_neg_one_to_one\n",
    "global device\n",
    "device = torch.device('cuda' if torch.cuda.is_available() else 'cpu')\n",
    "print(f'Using device: {device}', flush=True)\n",
    "\n",
    "def classifier_loss(model, x, labels, num_classes, num_steps, schedule, start, end):\n",
    "    '''\n",
    "    Calculates the loss associated with the model's prediction of the data. \n",
    "    This fn is given a batch of data with associated labels. \n",
    "    '''\n",
    "    batch_size = x.shape[0]\n",
    "    # x = x.reshape(batch_size, -1)\n",
    "    x = rescale_to_neg_one_to_one(x)\n",
    "    \n",
    "    # add noise to the data\n",
    "    t = torch.randint(0, num_steps, size=(batch_size,), device=device).long()\n",
    "    # x_noisy = generate_many_noisy_samples(num_steps, x, t, schedule, start, end, device).reshape(batch_size, -1)\n",
    "    x_noisy = generate_many_noisy_samples(num_steps, x, t, schedule, start, end, device)\n",
    "    output = model(x_noisy, t)  # the output is from a softmax, so it produces a probability of each discrete class\n",
    "    # output = model(x_noisy)  # the output is from a softmax, so it produces a probability of each discrete class\n",
    "    c = torch.nn.functional.one_hot(labels, num_classes).to(torch.float)  # encodes the classes with a one hot encoding\n",
    "    \n",
    "    # loss = (c - output).square().mean()\n",
    "    loss = torch.nn.functional.cross_entropy(output, c)\n",
    "    return loss\n",
    "\n",
    "from models import NetWithNoiseInfo, NetNoNoiseInfo\n",
    "# classifier = NetNoNoiseInfo(norm_method='nn', num_channels=description['num_hidden'], num_steps=description['num_steps'])\n",
    "classifier = NetWithNoiseInfo(norm_method='nn', num_channels=description['num_hidden'], num_steps=description['num_steps'])\n",
    "classifier.to(device)\n",
    "classifier.train()\n",
    "num_epochs = int(description['num_epochs'])\n",
    "\n",
    "optimizer = optim.Adam(classifier.parameters(), lr=description['lr'])\n",
    "\n",
    "run_dir = os.path.join(base_dir, 'demos/runs', f'{description[\"model_name\"]}_{description[\"model_num\"]}')\n",
    "tb = SummaryWriter(run_dir, flush_secs=1)\n",
    "\n",
    "for epoch in tqdm(range(1, int(num_epochs) + 1), total=int(num_epochs), desc='Training model', unit='epochs', miniters=int(num_epochs)/100, maxinterval=float(\"inf\")):\n",
    "    for batch_idx, (data, target) in enumerate(train_loader):\n",
    "        data = data.to(device)\n",
    "        target = target.to(device)\n",
    "        \n",
    "        loss = classifier_loss(classifier, data, target, 10, description['num_steps'], description['schedule'], description['start'], description['end'])\n",
    "        \n",
    "        optimizer.zero_grad()\n",
    "        loss.backward()\n",
    "        optimizer.step()\n",
    "        tb.add_scalar('Loss', loss.item(), epoch+batch_idx)\n",
    "\n",
    "print('training is over at last')\n",
    "\n",
    "# save model weights\n",
    "from utils import save_model_weights\n",
    "save_model_weights(classifier, description['model_name'], description['model_num'])\n",
    "tb.flush()"
   ]
  },
  {
   "cell_type": "code",
   "execution_count": 29,
   "metadata": {},
   "outputs": [
    {
     "name": "stdout",
     "output_type": "stream",
     "text": [
      "torch.Size([100, 1, 28, 28])\n",
      "probs tensor([[0.0000e+00, 7.3794e-01, 2.6206e-01, 0.0000e+00, 0.0000e+00, 0.0000e+00,\n",
      "         0.0000e+00, 6.5861e-44, 9.1448e-36, 0.0000e+00],\n",
      "        [0.0000e+00, 1.0000e+00, 4.0831e-36, 0.0000e+00, 0.0000e+00, 0.0000e+00,\n",
      "         2.0229e-26, 0.0000e+00, 3.6434e-44, 4.0918e-43],\n",
      "        [1.0000e+00, 7.5342e-20, 4.3094e-38, 1.8809e-35, 9.8225e-25, 1.5295e-06,\n",
      "         6.3550e-09, 2.3194e-36, 8.6213e-14, 1.4167e-38],\n",
      "        [0.0000e+00, 0.0000e+00, 0.0000e+00, 0.0000e+00, 0.0000e+00, 0.0000e+00,\n",
      "         0.0000e+00, 1.0000e+00, 0.0000e+00, 1.1145e-24],\n",
      "        [1.7758e-01, 0.0000e+00, 0.0000e+00, 7.3843e-36, 0.0000e+00, 2.4289e-20,\n",
      "         0.0000e+00, 8.0722e-15, 0.0000e+00, 8.2242e-01],\n",
      "        [1.0000e+00, 0.0000e+00, 0.0000e+00, 0.0000e+00, 8.4078e-45, 0.0000e+00,\n",
      "         0.0000e+00, 0.0000e+00, 4.7740e-33, 0.0000e+00],\n",
      "        [0.0000e+00, 0.0000e+00, 2.6541e-30, 1.0558e-38, 1.0000e+00, 0.0000e+00,\n",
      "         0.0000e+00, 8.6824e-14, 2.1458e-38, 8.8199e-19],\n",
      "        [0.0000e+00, 6.8406e-31, 0.0000e+00, 0.0000e+00, 0.0000e+00, 0.0000e+00,\n",
      "         0.0000e+00, 0.0000e+00, 1.0000e+00, 0.0000e+00],\n",
      "        [0.0000e+00, 0.0000e+00, 0.0000e+00, 0.0000e+00, 1.0000e+00, 0.0000e+00,\n",
      "         0.0000e+00, 0.0000e+00, 5.4792e-34, 3.9666e-08],\n",
      "        [0.0000e+00, 1.0000e+00, 0.0000e+00, 0.0000e+00, 0.0000e+00, 0.0000e+00,\n",
      "         0.0000e+00, 0.0000e+00, 1.2975e-33, 0.0000e+00]], device='cuda:0',\n",
      "       grad_fn=<SliceBackward0>)\n",
      "predictions: tensor([1, 1, 0, 7, 9, 0, 4, 8, 4, 1], device='cuda:0')\n",
      "correct: tensor([2, 1, 5, 9, 9, 0, 6, 8, 4, 7], device='cuda:0')\n",
      "0.33\n"
     ]
    },
    {
     "data": {
      "image/png": "[encoded data removed]",
      "text/plain": [
       "<Figure size 640x480 with 1 Axes>"
      ]
     },
     "metadata": {},
     "output_type": "display_data"
    }
   ],
   "source": [
    "# test the model performance\n",
    "from utils import load_model_weights\n",
    "from image_utils import generate_many_noisy_samples, rescale_to_neg_one_to_one\n",
    "model_name = 'large-noisy-image-classifier'\n",
    "model_num = 9\n",
    "\n",
    "desc_dir = os.path.join(base_dir, 'core', 'model_description', f'{model_name}_{model_num}.json')\n",
    "# load json file form desc_dir\n",
    "with open(desc_dir, 'r') as f:\n",
    "    description = json.load(f)\n",
    "\n",
    "# load model weights\n",
    "load_model = True\n",
    "\n",
    "if load_model == True:\n",
    "    from models import LargeNoisyImageClassifier, NetNoNoiseInfo, NetWithNoiseInfo\n",
    "    # model = LargeNoisyImageClassifier(num_in=description['num_in'], num_hidden=description['num_hidden'], num_classes=10, num_steps=description['num_steps'])\n",
    "    # model = NetNoNoiseInfo(norm_method='nn', num_channels=description['num_hidden'])\n",
    "    model = NetWithNoiseInfo(norm_method='nn', num_channels=description['num_hidden'], num_steps=description['num_steps'])\n",
    "    model = model.to(device)\n",
    "    from utils import load_model_weights\n",
    "    model_name = f\"{description['model_name']}_{description['model_num']}.pt\"\n",
    "    loadpath = os.path.join(base_dir, f'core/saved_weights', model_name)\n",
    "    state_dict = torch.load(loadpath, map_location=device)\n",
    "    model.load_state_dict(state_dict)\n",
    "    model.eval()\n",
    "    \n",
    "# load data\n",
    "def test_classifier_accuracy(model, num_test_samples,):\n",
    "    import torch\n",
    "    from torchvision import datasets, transforms\n",
    "    mnist_dir = os.path.join(base_dir, 'core', 'datasets', 'mnist')\n",
    "    mnist_test = datasets.MNIST(mnist_dir, train=False, download=True,\n",
    "                    transform=transforms.Compose([\n",
    "                        transforms.ToTensor(),\n",
    "                    ]))\n",
    "\n",
    "    test_loader = torch.utils.data.DataLoader(\n",
    "        mnist_test,\n",
    "        batch_size=num_test_samples, shuffle=True)\n",
    "\n",
    "    test_data = mnist_test.data[0][0]\n",
    "    # test the model\n",
    "    for batch_idx, (test_data, test_targets) in enumerate(test_loader):\n",
    "        test_data = test_data.to(device)\n",
    "        \n",
    "        test_data = rescale_to_neg_one_to_one(test_data)\n",
    "        # print(test_data.min(), test_data.max())\n",
    "        \n",
    "        test_targets = test_targets.to(device)\n",
    "        # add noise to image\n",
    "        \n",
    "        testset_size = test_data.shape[0]\n",
    "        noise_level = 120\n",
    "        assert noise_level < description['num_steps']\n",
    "        t = torch.tensor([noise_level])\n",
    "        t = t.repeat(testset_size,).long().cuda()\n",
    "        noisy_test_data = generate_many_noisy_samples(description['num_steps'], test_data, t, description['schedule'], description['start'], description['end'], device)\n",
    "        print(noisy_test_data.shape)\n",
    "        fig, ax = plt.subplots(1, 1)\n",
    "        ax.imshow(noisy_test_data[0].squeeze().cpu().numpy(), cmap='gray')\n",
    "        \n",
    "        probs = model(noisy_test_data, t)\n",
    "        pred = probs.max(dim=1)[1]\n",
    "        print('probs', probs[:10])\n",
    "        print(f'predictions: {pred[:10]}')\n",
    "        print(f'correct: {test_targets[:10]}')\n",
    "        \n",
    "        num_correct = pred.eq(test_targets.view_as(pred)).sum().item()\n",
    "        \n",
    "        acc = num_correct / testset_size\n",
    "        print(acc)\n",
    "        break\n",
    "\n",
    "test_classifier_accuracy(model, 100)"
   ]
  },
  {
   "cell_type": "markdown",
   "metadata": {},
   "source": [
    "# perform inference"
   ]
  },
  {
   "cell_type": "code",
   "execution_count": 33,
   "metadata": {},
   "outputs": [
    {
     "name": "stdout",
     "output_type": "stream",
     "text": [
      "model loaded!\n",
      "model loaded!\n"
     ]
    }
   ],
   "source": [
    "# load diffusion model\n",
    "diffusion_model_name = 'dendritic-mnist'\n",
    "diffusion_model_num = 32\n",
    "\n",
    "desc_dir = os.path.join(base_dir, 'core', 'model_description', f'{diffusion_model_name}_{diffusion_model_num}.json')\n",
    "# load json file form desc_dir\n",
    "with open(desc_dir, 'r') as f:\n",
    "    diff_params = json.load(f)\n",
    "    \n",
    "if diff_params['model_name'] == 'dendritic-mnist':\n",
    "    from models import VariableDendriticCircuit\n",
    "    diffusion_model = VariableDendriticCircuit(hidden_cfg=diff_params['hidden_cfg'], \n",
    "                                    num_in=diff_params['num_ambient_dims'], \n",
    "                                    num_out=diff_params['num_ambient_dims'], \n",
    "                                    bias=True)\n",
    "    # load diffusion_model weights\n",
    "    diffusion_model = diffusion_model.to(device)\n",
    "    from utils import load_model_weights\n",
    "    diffusion_model = load_model_weights(diffusion_model, diff_params['model_name'], diff_params['model_number'], device)\n",
    "    diffusion_model.eval()\n",
    "\n",
    "# -------------------------------- classifier -------------------------------- #\n",
    "# load classifier\n",
    "classifier_model_name = 'large-noisy-image-classifier'\n",
    "classifier_model_num = 9\n",
    "\n",
    "desc_dir = os.path.join(base_dir, 'core', 'model_description', f'{classifier_model_name}_{classifier_model_num}.json')\n",
    "# load json file form desc_dir\n",
    "with open(desc_dir, 'r') as f:\n",
    "    class_params = json.load(f)\n",
    "    \n",
    "if description['model_name'] == 'large-noisy-image-classifier':\n",
    "    from models import NetNoNoiseInfo, NetWithNoiseInfo\n",
    "    classifier = NetWithNoiseInfo(norm_method='nn', num_channels=description['num_hidden'], num_steps=description['num_steps'])\n",
    "    classifier = classifier.to(device)\n",
    "    from utils import load_model_weights\n",
    "    classifier = load_model_weights(classifier, class_params['model_name'], class_params['model_num'], device)\n",
    "    classifier.eval()"
   ]
  },
  {
   "cell_type": "code",
   "execution_count": 34,
   "metadata": {},
   "outputs": [
    {
     "data": {
      "text/plain": [
       "VariableDendriticCircuit(\n",
       "  (nonlin): ReLU()\n",
       "  (features): MySequential(\n",
       "    (0): NoiseConditionalLinearConcat1(\n",
       "      (linear): Linear(in_features=785, out_features=112896, bias=True)\n",
       "    )\n",
       "    (1): ReLU()\n",
       "    (2): DendriticBranchLayer()\n",
       "    (3): ReLU()\n",
       "    (4): DendriticBranchLayer()\n",
       "  )\n",
       ")"
      ]
     },
     "execution_count": 34,
     "metadata": {},
     "output_type": "execute_result"
    }
   ],
   "source": [
    "diffusion_model"
   ]
  },
  {
   "cell_type": "code",
   "execution_count": 182,
   "metadata": {},
   "outputs": [
    {
     "name": "stdout",
     "output_type": "stream",
     "text": [
      "2e-07 0.12\n",
      "torch.Size([151, 2, 784])\n",
      "torch.Size([150, 2, 784])\n",
      "tensor(2.4332, device='cuda:0')\n"
     ]
    },
    {
     "ename": "RuntimeError",
     "evalue": "shape '[2, 28, 28]' is invalid for input of size 236768",
     "output_type": "error",
     "traceback": [
      "\u001b[0;31m---------------------------------------------------------------------------\u001b[0m",
      "\u001b[0;31mRuntimeError\u001b[0m                              Traceback (most recent call last)",
      "\u001b[1;32m/mnt/home/blyo1/ceph/projects/LyoSavin2023/demos/supplementary-mnist_classifier.ipynb Cell 9\u001b[0m line \u001b[0;36m2\n\u001b[1;32m     <a href='vscode-notebook-cell://tunnel%2Brusty/mnt/home/blyo1/ceph/projects/LyoSavin2023/demos/supplementary-mnist_classifier.ipynb#X13sdnNjb2RlLXJlbW90ZQ%3D%3D?line=18'>19</a>\u001b[0m \u001b[39mprint\u001b[39m(classifier_scores\u001b[39m.\u001b[39mshape)\n\u001b[1;32m     <a href='vscode-notebook-cell://tunnel%2Brusty/mnt/home/blyo1/ceph/projects/LyoSavin2023/demos/supplementary-mnist_classifier.ipynb#X13sdnNjb2RlLXJlbW90ZQ%3D%3D?line=19'>20</a>\u001b[0m \u001b[39mprint\u001b[39m(classifier_scores[\u001b[39m14\u001b[39m]\u001b[39m.\u001b[39mmax())\n\u001b[0;32m---> <a href='vscode-notebook-cell://tunnel%2Brusty/mnt/home/blyo1/ceph/projects/LyoSavin2023/demos/supplementary-mnist_classifier.ipynb#X13sdnNjb2RlLXJlbW90ZQ%3D%3D?line=21'>22</a>\u001b[0m x_seq \u001b[39m=\u001b[39m x_seq\u001b[39m.\u001b[39;49mreshape(sample_size, \u001b[39m28\u001b[39;49m, \u001b[39m28\u001b[39;49m)\u001b[39m.\u001b[39mdetach()\n\u001b[1;32m     <a href='vscode-notebook-cell://tunnel%2Brusty/mnt/home/blyo1/ceph/projects/LyoSavin2023/demos/supplementary-mnist_classifier.ipynb#X13sdnNjb2RlLXJlbW90ZQ%3D%3D?line=22'>23</a>\u001b[0m \u001b[39m# x_seq = rescale_to_neg_one_to_one(x_seq)\u001b[39;00m\n\u001b[1;32m     <a href='vscode-notebook-cell://tunnel%2Brusty/mnt/home/blyo1/ceph/projects/LyoSavin2023/demos/supplementary-mnist_classifier.ipynb#X13sdnNjb2RlLXJlbW90ZQ%3D%3D?line=23'>24</a>\u001b[0m \u001b[39m# x_seq = x_seq.reshape(sample_size, 28, 28)\u001b[39;00m\n\u001b[1;32m     <a href='vscode-notebook-cell://tunnel%2Brusty/mnt/home/blyo1/ceph/projects/LyoSavin2023/demos/supplementary-mnist_classifier.ipynb#X13sdnNjb2RlLXJlbW90ZQ%3D%3D?line=25'>26</a>\u001b[0m fig, axes \u001b[39m=\u001b[39m plt\u001b[39m.\u001b[39msubplots(\u001b[39m1\u001b[39m, sample_size)\n",
      "\u001b[0;31mRuntimeError\u001b[0m: shape '[2, 28, 28]' is invalid for input of size 236768"
     ]
    }
   ],
   "source": [
    "# now perform inference\n",
    "from image_utils import perform_top_down_inference, p_sample_loop_large\n",
    "\n",
    "label = 3\n",
    "s_td = 0\n",
    "sample_size = 2\n",
    "schedule = 'sigmoid'\n",
    "# start = class_params['start']\n",
    "# end = class_params['end']\n",
    "start=2e-7\n",
    "end=12e-2\n",
    "print(start, end)\n",
    "shape = (sample_size, diff_params['num_ambient_dims'])\n",
    "\n",
    "# x_seq = p_sample_loop_large(diffusion_model, shape, 150, device, None, schedule, start, end)[-1]\n",
    "\n",
    "x_seq, classifier_scores = perform_top_down_inference(diffusion_model, classifier, 150, label, s_td, shape, schedule, start, end, device)\n",
    "print(x_seq.shape)\n",
    "print(classifier_scores.shape)\n",
    "print(classifier_scores[14].max())\n",
    "\n",
    "x_seq = x_seq[-1].reshape(sample_size, 28, 28).detach()\n",
    "# x_seq = rescale_to_neg_one_to_one(x_seq)\n",
    "# x_seq = x_seq.reshape(sample_size, 28, 28)\n",
    "\n",
    "fig, axes = plt.subplots(1, sample_size)\n",
    "for idx, a in enumerate(axes):\n",
    "    a.imshow(x_seq[idx].squeeze().cpu().numpy(), cmap='gray')\n",
    "    remove_all_ticks_and_labels(a)"
   ]
  },
  {
   "cell_type": "code",
   "execution_count": 92,
   "metadata": {},
   "outputs": [],
   "source": [
    "# show distribution of mnist\n",
    "mnist_train = datasets.MNIST(mnist_dir, train=True, download=True,\n",
    "                    transform=transforms.Compose([\n",
    "                        transforms.ToTensor(),\n",
    "                    ]))\n",
    "\n",
    "train_loader = torch.utils.data.DataLoader(\n",
    "    mnist_train,\n",
    "    batch_size=1, shuffle=True)\n",
    "\n",
    "def count_mnist_labels(train_loader):\n",
    "    label_counts = np.zeros(10)\n",
    "    for batch_idx, (data, target) in enumerate(train_loader):\n",
    "        label_counts[target] += 1\n",
    "    return label_counts\n",
    "\n",
    "label_counts = count_mnist_labels(train_loader)"
   ]
  },
  {
   "cell_type": "code",
   "execution_count": 95,
   "metadata": {},
   "outputs": [
    {
     "data": {
      "image/png": "[encoded data removed]",
      "text/plain": [
       "<Figure size 640x480 with 1 Axes>"
      ]
     },
     "metadata": {},
     "output_type": "display_data"
    }
   ],
   "source": [
    "fig, ax = plt.subplots(1, 1)\n",
    "ax.bar(np.arange(10), label_counts)\n",
    "a = ax.set(xticks=np.arange(10), xticklabels=np.arange(10), xlabel='digit', ylabel='count')\n"
   ]
  },
  {
   "cell_type": "code",
   "execution_count": 131,
   "metadata": {},
   "outputs": [
    {
     "name": "stdout",
     "output_type": "stream",
     "text": [
      "torch.Size([5000, 1, 28, 28])\n",
      "predictions: tensor([2, 6, 3, 2, 5, 1, 2, 2, 9, 2], device='cuda:0')\n"
     ]
    },
    {
     "data": {
      "text/plain": [
       "<BarContainer object of 10 artists>"
      ]
     },
     "execution_count": 131,
     "metadata": {},
     "output_type": "execute_result"
    },
    {
     "data": {
      "image/png": "[encoded data removed]",
      "text/plain": [
       "<Figure size 640x480 with 1 Axes>"
      ]
     },
     "metadata": {},
     "output_type": "display_data"
    }
   ],
   "source": [
    "# show distribution of generated samples\n",
    "load_dir = os.path.join(base_dir, 'core', 'saved_arrays', 'mnist')\n",
    "x_0 = np.load(os.path.join(load_dir, f'generated_samples_model32.npy'))\n",
    "x_0 = torch.tensor(x_0)\n",
    "print(x_0.shape)\n",
    "\n",
    "# run classifier on generated samples\n",
    "x_0 = x_0.to(device)\n",
    "x_0 = rescale_to_neg_one_to_one(x_0)\n",
    "\n",
    "t = torch.tensor([0])\n",
    "t = t.repeat(x_0.shape[0],).long().cuda()\n",
    "\n",
    "probs = classifier(x_0, t)\n",
    "pred = probs.max(dim=1)[1]\n",
    "print(f'predictions: {pred[:10]}')\n",
    "\n",
    "# show distribution of generated samples\n",
    "def count_generated_labels(x_0, pred):\n",
    "    label_counts = np.zeros(10)\n",
    "    for idx in range(x_0.shape[0]):\n",
    "        label_counts[pred[idx]] += 1\n",
    "    return label_counts\n",
    "\n",
    "counts = count_generated_labels(x_0, pred)\n",
    "fig, ax = plt.subplots(1, 1)\n",
    "a = ax.set(xticks=np.arange(10), xticklabels=np.arange(10), xlabel='digit', ylabel='count')\n",
    "ax.bar(np.arange(10), counts)"
   ]
  },
  {
   "cell_type": "code",
   "execution_count": null,
   "metadata": {},
   "outputs": [],
   "source": []
  }
 ],
 "metadata": {
  "kernelspec": {
   "display_name": "gpuvenvkernel2",
   "language": "python",
   "name": "gpuvenvkernel2"
  },
  "language_info": {
   "codemirror_mode": {
    "name": "ipython",
    "version": 3
   },
   "file_extension": ".py",
   "mimetype": "text/x-python",
   "name": "python",
   "nbconvert_exporter": "python",
   "pygments_lexer": "ipython3",
   "version": "3.10.10"
  }
 },
 "nbformat": 4,
 "nbformat_minor": 2
}
